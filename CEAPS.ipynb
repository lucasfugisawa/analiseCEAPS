{
 "cells": [
  {
   "cell_type": "code",
   "execution_count": 1,
   "metadata": {
    "collapsed": true,
    "pycharm": {
     "name": "#%%\n"
    }
   },
   "outputs": [],
   "source": [
    "import pandas as pd"
   ]
  },
  {
   "cell_type": "code",
   "execution_count": 2,
   "outputs": [
    {
     "name": "stdout",
     "output_type": "stream",
     "text": [
      "<class 'pandas.core.frame.DataFrame'>\n",
      "Int64Index: 62828 entries, 0 to 10276\n",
      "Data columns (total 11 columns):\n",
      " #   Column             Non-Null Count  Dtype \n",
      "---  ------             --------------  ----- \n",
      " 0   ANO                62828 non-null  int64 \n",
      " 1   MES                62828 non-null  int64 \n",
      " 2   SENADOR            62828 non-null  object\n",
      " 3   TIPO_DESPESA       62828 non-null  object\n",
      " 4   CNPJ_CPF           62828 non-null  object\n",
      " 5   FORNECEDOR         62828 non-null  object\n",
      " 6   DOCUMENTO          60236 non-null  object\n",
      " 7   DATA               62828 non-null  object\n",
      " 8   DETALHAMENTO       34957 non-null  object\n",
      " 9   VALOR_REEMBOLSADO  62828 non-null  object\n",
      " 10  COD_DOCUMENTO      62828 non-null  int64 \n",
      "dtypes: int64(3), object(8)\n",
      "memory usage: 5.8+ MB\n"
     ]
    }
   ],
   "source": [
    "dados2019 = pd.read_csv('dados/despesa_ceaps_2019.csv', sep=';', skiprows=1, encoding='latin1')\n",
    "dados2020 = pd.read_csv('dados/despesa_ceaps_2020.csv', sep=';', skiprows=1, encoding='latin1')\n",
    "dados2021 = pd.read_csv('dados/despesa_ceaps_2021.csv', sep=';', skiprows=1, encoding='latin1')\n",
    "dados2022 = pd.read_csv('dados/despesa_ceaps_2022.csv', sep=';', skiprows=1, encoding='latin1')\n",
    "dados = pd.concat([dados2019, dados2020, dados2021, dados2022])\n",
    "dados.info()"
   ],
   "metadata": {
    "collapsed": false,
    "pycharm": {
     "name": "#%%\n"
    }
   }
  },
  {
   "cell_type": "code",
   "execution_count": 3,
   "outputs": [],
   "source": [
    "# Conversão do VALOR_REEMBOLSADO para float:\n",
    "dados['VALOR_REEMBOLSADO'] = dados['VALOR_REEMBOLSADO'].astype('str').str.replace(',', '.').astype('float')"
   ],
   "metadata": {
    "collapsed": false,
    "pycharm": {
     "name": "#%%\n"
    }
   }
  },
  {
   "cell_type": "code",
   "execution_count": 4,
   "outputs": [],
   "source": [
    "# Remoção de Reembolsos com DATA inválida e conversão de data de string DD/MM/AAAA para datetime:\n",
    "dados.drop((dados[dados['DATA'].str.match('^(0[1-9]|[12][0-9]|3[01])\\/(0[1-9]|1[012])\\/[12][0-9]{3}$').astype(bool) == False]).index, inplace=True, axis='index')\n",
    "dados['DATA'] = pd.to_datetime(dados['DATA'], format='%d/%m/%Y')"
   ],
   "metadata": {
    "collapsed": false,
    "pycharm": {
     "name": "#%%\n"
    }
   }
  },
  {
   "cell_type": "code",
   "execution_count": 5,
   "outputs": [
    {
     "data": {
      "text/plain": "0"
     },
     "execution_count": 5,
     "metadata": {},
     "output_type": "execute_result"
    }
   ],
   "source": [
    "# Reembolsos com CPFs ou CNPJs com formatos inválidos:\n",
    "dados[dados['CNPJ_CPF'].str.match('([0-9]{2}[\\.]?[0-9]{3}[\\.]?[0-9]{3}[\\/]?[0-9]{4}[-]?[0-9]{2})|([0-9]{3}[\\.]?[0-9]{3}[\\.]?[0-9]{3}[-]?[0-9]{2})') == False].shape[0]"
   ],
   "metadata": {
    "collapsed": false,
    "pycharm": {
     "name": "#%%\n"
    }
   }
  },
  {
   "cell_type": "code",
   "execution_count": 6,
   "outputs": [
    {
     "data": {
      "text/plain": "        ANO  MES           SENADOR  \\\n0      2019    1      ACIR GURGACZ   \n1      2019    1      ACIR GURGACZ   \n2      2019    1      ACIR GURGACZ   \n3      2019    1      ACIR GURGACZ   \n4      2019    2      ACIR GURGACZ   \n...     ...  ...               ...   \n10272  2022    7  ZEQUINHA MARINHO   \n10273  2022    7  ZEQUINHA MARINHO   \n10274  2022    8  ZEQUINHA MARINHO   \n10275  2022    8  ZEQUINHA MARINHO   \n10276  2022    8  ZEQUINHA MARINHO   \n\n                                            TIPO_DESPESA            CNPJ_CPF  \\\n0      Aluguel de imóveis para escritório político, c...  05.914.650/0001-66   \n1      Aluguel de imóveis para escritório político, c...  05.914.650/0001-66   \n2      Aluguel de imóveis para escritório político, c...      004.948.028-63   \n3      Aluguel de imóveis para escritório político, c...  05.423.963/0001-11   \n4      Aluguel de imóveis para escritório político, c...  05.914.650/0001-66   \n...                                                  ...                 ...   \n10272  Passagens aéreas, aquáticas e terrestres nacio...  22.052.777/0001-32   \n10273  Passagens aéreas, aquáticas e terrestres nacio...  22.052.777/0001-32   \n10274  Locomoção, hospedagem, alimentação, combustíve...  27.522.923/0001-60   \n10275  Passagens aéreas, aquáticas e terrestres nacio...  22.052.777/0001-32   \n10276  Passagens aéreas, aquáticas e terrestres nacio...  22.052.777/0001-32   \n\n                                  FORNECEDOR  DOCUMENTO       DATA  \\\n0                                   ENERGISA  006582758 2019-01-04   \n1                                   ENERGISA  006582755 2019-01-04   \n2              GILBERTO PISELO DO NASCIMENTO      00119 2019-01-07   \n3                              OI MÓVEL S.A.   86161151 2018-12-25   \n4                                   ENERGISA  007236036 2019-02-04   \n...                                      ...        ...        ...   \n10272                          Exceller Tour     FRMXSO 2022-07-26   \n10273                          Exceller Tour     YQRYAW 2022-07-26   \n10274  Casarao da Vila Restaurante LTDA - ME  000127032 2022-08-03   \n10275                          Exceller Tour     FLXNAO 2022-08-02   \n10276                          Exceller Tour     TKR98A 2022-08-07   \n\n                                            DETALHAMENTO  VALOR_REEMBOLSADO  \\\n0      Despesa com pagamento de energia elétrica do e...              66.02   \n1      Despesa com pagamento de energia elétrica do e...             139.98   \n2      Despesa com pagamento de aluguel de imóvel par...            6000.00   \n3      Despesa com pagamento de telefonia para o escr...             316.39   \n4      Despesa com pagamento de energia elétrica para...              99.45   \n...                                                  ...                ...   \n10272  Companhia Aérea: GOL, Localizador: FRMXSO. Pas...            1826.25   \n10273  Companhia Aérea: LATAM, Localizador: YQRYAW. P...            2189.41   \n10274                                                NaN              26.57   \n10275  Companhia Aérea: GOL, Localizador: FLXNAO. Pas...            3140.46   \n10276  Companhia Aérea: AZUL, Localizador: TKR98A. Pa...            2850.90   \n\n       COD_DOCUMENTO  FORNECEDOR_PESSOA_JURIDICA  \n0            2116543                        True  \n1            2116546                        True  \n2            2113817                       False  \n3            2116541                        True  \n4            2116550                        True  \n...              ...                         ...  \n10272        2184750                        True  \n10273        2184748                        True  \n10274        2184892                        True  \n10275        2185426                        True  \n10276        2185429                        True  \n\n[62818 rows x 12 columns]",
      "text/html": "<div>\n<style scoped>\n    .dataframe tbody tr th:only-of-type {\n        vertical-align: middle;\n    }\n\n    .dataframe tbody tr th {\n        vertical-align: top;\n    }\n\n    .dataframe thead th {\n        text-align: right;\n    }\n</style>\n<table border=\"1\" class=\"dataframe\">\n  <thead>\n    <tr style=\"text-align: right;\">\n      <th></th>\n      <th>ANO</th>\n      <th>MES</th>\n      <th>SENADOR</th>\n      <th>TIPO_DESPESA</th>\n      <th>CNPJ_CPF</th>\n      <th>FORNECEDOR</th>\n      <th>DOCUMENTO</th>\n      <th>DATA</th>\n      <th>DETALHAMENTO</th>\n      <th>VALOR_REEMBOLSADO</th>\n      <th>COD_DOCUMENTO</th>\n      <th>FORNECEDOR_PESSOA_JURIDICA</th>\n    </tr>\n  </thead>\n  <tbody>\n    <tr>\n      <th>0</th>\n      <td>2019</td>\n      <td>1</td>\n      <td>ACIR GURGACZ</td>\n      <td>Aluguel de imóveis para escritório político, c...</td>\n      <td>05.914.650/0001-66</td>\n      <td>ENERGISA</td>\n      <td>006582758</td>\n      <td>2019-01-04</td>\n      <td>Despesa com pagamento de energia elétrica do e...</td>\n      <td>66.02</td>\n      <td>2116543</td>\n      <td>True</td>\n    </tr>\n    <tr>\n      <th>1</th>\n      <td>2019</td>\n      <td>1</td>\n      <td>ACIR GURGACZ</td>\n      <td>Aluguel de imóveis para escritório político, c...</td>\n      <td>05.914.650/0001-66</td>\n      <td>ENERGISA</td>\n      <td>006582755</td>\n      <td>2019-01-04</td>\n      <td>Despesa com pagamento de energia elétrica do e...</td>\n      <td>139.98</td>\n      <td>2116546</td>\n      <td>True</td>\n    </tr>\n    <tr>\n      <th>2</th>\n      <td>2019</td>\n      <td>1</td>\n      <td>ACIR GURGACZ</td>\n      <td>Aluguel de imóveis para escritório político, c...</td>\n      <td>004.948.028-63</td>\n      <td>GILBERTO PISELO DO NASCIMENTO</td>\n      <td>00119</td>\n      <td>2019-01-07</td>\n      <td>Despesa com pagamento de aluguel de imóvel par...</td>\n      <td>6000.00</td>\n      <td>2113817</td>\n      <td>False</td>\n    </tr>\n    <tr>\n      <th>3</th>\n      <td>2019</td>\n      <td>1</td>\n      <td>ACIR GURGACZ</td>\n      <td>Aluguel de imóveis para escritório político, c...</td>\n      <td>05.423.963/0001-11</td>\n      <td>OI MÓVEL S.A.</td>\n      <td>86161151</td>\n      <td>2018-12-25</td>\n      <td>Despesa com pagamento de telefonia para o escr...</td>\n      <td>316.39</td>\n      <td>2116541</td>\n      <td>True</td>\n    </tr>\n    <tr>\n      <th>4</th>\n      <td>2019</td>\n      <td>2</td>\n      <td>ACIR GURGACZ</td>\n      <td>Aluguel de imóveis para escritório político, c...</td>\n      <td>05.914.650/0001-66</td>\n      <td>ENERGISA</td>\n      <td>007236036</td>\n      <td>2019-02-04</td>\n      <td>Despesa com pagamento de energia elétrica para...</td>\n      <td>99.45</td>\n      <td>2116550</td>\n      <td>True</td>\n    </tr>\n    <tr>\n      <th>...</th>\n      <td>...</td>\n      <td>...</td>\n      <td>...</td>\n      <td>...</td>\n      <td>...</td>\n      <td>...</td>\n      <td>...</td>\n      <td>...</td>\n      <td>...</td>\n      <td>...</td>\n      <td>...</td>\n      <td>...</td>\n    </tr>\n    <tr>\n      <th>10272</th>\n      <td>2022</td>\n      <td>7</td>\n      <td>ZEQUINHA MARINHO</td>\n      <td>Passagens aéreas, aquáticas e terrestres nacio...</td>\n      <td>22.052.777/0001-32</td>\n      <td>Exceller Tour</td>\n      <td>FRMXSO</td>\n      <td>2022-07-26</td>\n      <td>Companhia Aérea: GOL, Localizador: FRMXSO. Pas...</td>\n      <td>1826.25</td>\n      <td>2184750</td>\n      <td>True</td>\n    </tr>\n    <tr>\n      <th>10273</th>\n      <td>2022</td>\n      <td>7</td>\n      <td>ZEQUINHA MARINHO</td>\n      <td>Passagens aéreas, aquáticas e terrestres nacio...</td>\n      <td>22.052.777/0001-32</td>\n      <td>Exceller Tour</td>\n      <td>YQRYAW</td>\n      <td>2022-07-26</td>\n      <td>Companhia Aérea: LATAM, Localizador: YQRYAW. P...</td>\n      <td>2189.41</td>\n      <td>2184748</td>\n      <td>True</td>\n    </tr>\n    <tr>\n      <th>10274</th>\n      <td>2022</td>\n      <td>8</td>\n      <td>ZEQUINHA MARINHO</td>\n      <td>Locomoção, hospedagem, alimentação, combustíve...</td>\n      <td>27.522.923/0001-60</td>\n      <td>Casarao da Vila Restaurante LTDA - ME</td>\n      <td>000127032</td>\n      <td>2022-08-03</td>\n      <td>NaN</td>\n      <td>26.57</td>\n      <td>2184892</td>\n      <td>True</td>\n    </tr>\n    <tr>\n      <th>10275</th>\n      <td>2022</td>\n      <td>8</td>\n      <td>ZEQUINHA MARINHO</td>\n      <td>Passagens aéreas, aquáticas e terrestres nacio...</td>\n      <td>22.052.777/0001-32</td>\n      <td>Exceller Tour</td>\n      <td>FLXNAO</td>\n      <td>2022-08-02</td>\n      <td>Companhia Aérea: GOL, Localizador: FLXNAO. Pas...</td>\n      <td>3140.46</td>\n      <td>2185426</td>\n      <td>True</td>\n    </tr>\n    <tr>\n      <th>10276</th>\n      <td>2022</td>\n      <td>8</td>\n      <td>ZEQUINHA MARINHO</td>\n      <td>Passagens aéreas, aquáticas e terrestres nacio...</td>\n      <td>22.052.777/0001-32</td>\n      <td>Exceller Tour</td>\n      <td>TKR98A</td>\n      <td>2022-08-07</td>\n      <td>Companhia Aérea: AZUL, Localizador: TKR98A. Pa...</td>\n      <td>2850.90</td>\n      <td>2185429</td>\n      <td>True</td>\n    </tr>\n  </tbody>\n</table>\n<p>62818 rows × 12 columns</p>\n</div>"
     },
     "execution_count": 6,
     "metadata": {},
     "output_type": "execute_result"
    }
   ],
   "source": [
    "# Adicionando nova coluna FORNECEDOR_PESSOA_JURIDICA que indica se o fornecedor referente ao reembolso é pessoa física ou jurídica.\n",
    "dados['FORNECEDOR_PESSOA_JURIDICA'] = dados['CNPJ_CPF'].str.match('([0-9]{2}[\\.]?[0-9]{3}[\\.]?[0-9]{3}[\\/]?[0-9]{4}[-]?[0-9]{2})')\n",
    "dados"
   ],
   "metadata": {
    "collapsed": false,
    "pycharm": {
     "name": "#%%\n"
    }
   }
  },
  {
   "cell_type": "code",
   "execution_count": 7,
   "outputs": [
    {
     "data": {
      "text/plain": "CNPJ_CPF\n00.001.388/0002-26               Distribuidora Brasilia de Veículos S/A\n00.005.892/0001-13                                  ML SOUZA E CIA LTDA\n00.012.211/0002-25             Drive Car Tansportes e Combustíveis Ltda\n00.031.708/0001-00                                            SINPETAXI\n00.031.708/0003-71                                            Sinpetaxi\n                                            ...                        \n976.555.463-04                           Horácio Alves de Andrade  Neto\n98.042.294/0001-19                       POSTO DE SERVIÇOS FRITSCH LTDA\n98.102.270/0001-08      Comercial de Combustíveis e Cereais Diesel Ltda\n98.587.918/0001-83    POSTO DE ABASTECIMENTO DE COMBUSTIVEIS SCHWITZ...\n991.568.574-20                                izolda freitas reis pires\nName: FORNECEDOR, Length: 7155, dtype: object"
     },
     "execution_count": 7,
     "metadata": {},
     "output_type": "execute_result"
    }
   ],
   "source": [
    "fornecedores = dados.groupby(['CNPJ_CPF']).first()['FORNECEDOR']\n",
    "fornecedores"
   ],
   "metadata": {
    "collapsed": false,
    "pycharm": {
     "name": "#%%\n"
    }
   }
  },
  {
   "cell_type": "code",
   "execution_count": 8,
   "outputs": [
    {
     "data": {
      "text/plain": "        ANO  MES           SENADOR  \\\n0      2019    1      ACIR GURGACZ   \n1      2019    1      ACIR GURGACZ   \n4      2019    2      ACIR GURGACZ   \n5      2019    2      ACIR GURGACZ   \n8      2019    3      ACIR GURGACZ   \n...     ...  ...               ...   \n10229  2022    5  ZEQUINHA MARINHO   \n10249  2022    6  ZEQUINHA MARINHO   \n10250  2022    6  ZEQUINHA MARINHO   \n10251  2022    6  ZEQUINHA MARINHO   \n10253  2022    6  ZEQUINHA MARINHO   \n\n                                            TIPO_DESPESA            CNPJ_CPF  \\\n0      Aluguel de imóveis para escritório político, c...  05.914.650/0001-66   \n1      Aluguel de imóveis para escritório político, c...  05.914.650/0001-66   \n4      Aluguel de imóveis para escritório político, c...  05.914.650/0001-66   \n5      Aluguel de imóveis para escritório político, c...  05.914.650/0001-66   \n8      Aluguel de imóveis para escritório político, c...  05.914.650/0001-66   \n...                                                  ...                 ...   \n10229  Locomoção, hospedagem, alimentação, combustíve...  31.360.727/0001-03   \n10249  Locomoção, hospedagem, alimentação, combustíve...  21.387.460/0004-37   \n10250  Locomoção, hospedagem, alimentação, combustíve...  05.632.683/0001-13   \n10251  Locomoção, hospedagem, alimentação, combustíve...  04.190.866/0001-63   \n10253  Locomoção, hospedagem, alimentação, combustíve...  05.044.096/0002-94   \n\n                         FORNECEDOR_x  DOCUMENTO       DATA  \\\n0                            ENERGISA  006582758 2019-01-04   \n1                            ENERGISA  006582755 2019-01-04   \n4                            ENERGISA  007236036 2019-02-04   \n5                            ENERGISA  007236031 2019-02-04   \n8                            ENERGISA  007887449 2019-03-01   \n...                               ...        ...        ...   \n10229              TRES CASTROS LTDA.       1527 2022-05-04   \n10249                 AUTO POSTO ROMA     113802 2022-06-19   \n10250      AUTO POSTO TRACYANNE LTDA.     141283 2022-06-03   \n10251  LUCILENE DOTTO NICOLODI EIRELI      84449 2022-06-18   \n10253                 POSTO COPA 2002     114820 2022-06-05   \n\n                                            DETALHAMENTO  VALOR_REEMBOLSADO  \\\n0      Despesa com pagamento de energia elétrica do e...              66.02   \n1      Despesa com pagamento de energia elétrica do e...             139.98   \n4      Despesa com pagamento de energia elétrica para...              99.45   \n5      Despesa com pagamento de energia elétrica para...             262.93   \n8      Pagamento de energia elétrica para o escritóri...              85.50   \n...                                                  ...                ...   \n10229                                                NaN             327.00   \n10249                                                NaN             584.02   \n10250                                                NaN             497.69   \n10251                                                NaN             400.07   \n10253                                                NaN             525.06   \n\n       COD_DOCUMENTO  FORNECEDOR_PESSOA_JURIDICA  \\\n0            2116543                        True   \n1            2116546                        True   \n4            2116550                        True   \n5            2116551                        True   \n8            2116572                        True   \n...              ...                         ...   \n10229        2180809                        True   \n10249        2183891                        True   \n10250        2183889                        True   \n10251        2183890                        True   \n10253        2183892                        True   \n\n                         FORNECEDOR_y  \n0                            ENERGISA  \n1                            ENERGISA  \n4                            ENERGISA  \n5                            ENERGISA  \n8                            ENERGISA  \n...                               ...  \n10229              TRES CASTROS LTDA.  \n10249                 AUTO POSTO ROMA  \n10250      AUTO POSTO TRACYANNE LTDA.  \n10251  LUCILENE DOTTO NICOLODI EIRELI  \n10253                 POSTO COPA 2002  \n\n[62818 rows x 13 columns]",
      "text/html": "<div>\n<style scoped>\n    .dataframe tbody tr th:only-of-type {\n        vertical-align: middle;\n    }\n\n    .dataframe tbody tr th {\n        vertical-align: top;\n    }\n\n    .dataframe thead th {\n        text-align: right;\n    }\n</style>\n<table border=\"1\" class=\"dataframe\">\n  <thead>\n    <tr style=\"text-align: right;\">\n      <th></th>\n      <th>ANO</th>\n      <th>MES</th>\n      <th>SENADOR</th>\n      <th>TIPO_DESPESA</th>\n      <th>CNPJ_CPF</th>\n      <th>FORNECEDOR_x</th>\n      <th>DOCUMENTO</th>\n      <th>DATA</th>\n      <th>DETALHAMENTO</th>\n      <th>VALOR_REEMBOLSADO</th>\n      <th>COD_DOCUMENTO</th>\n      <th>FORNECEDOR_PESSOA_JURIDICA</th>\n      <th>FORNECEDOR_y</th>\n    </tr>\n  </thead>\n  <tbody>\n    <tr>\n      <th>0</th>\n      <td>2019</td>\n      <td>1</td>\n      <td>ACIR GURGACZ</td>\n      <td>Aluguel de imóveis para escritório político, c...</td>\n      <td>05.914.650/0001-66</td>\n      <td>ENERGISA</td>\n      <td>006582758</td>\n      <td>2019-01-04</td>\n      <td>Despesa com pagamento de energia elétrica do e...</td>\n      <td>66.02</td>\n      <td>2116543</td>\n      <td>True</td>\n      <td>ENERGISA</td>\n    </tr>\n    <tr>\n      <th>1</th>\n      <td>2019</td>\n      <td>1</td>\n      <td>ACIR GURGACZ</td>\n      <td>Aluguel de imóveis para escritório político, c...</td>\n      <td>05.914.650/0001-66</td>\n      <td>ENERGISA</td>\n      <td>006582755</td>\n      <td>2019-01-04</td>\n      <td>Despesa com pagamento de energia elétrica do e...</td>\n      <td>139.98</td>\n      <td>2116546</td>\n      <td>True</td>\n      <td>ENERGISA</td>\n    </tr>\n    <tr>\n      <th>4</th>\n      <td>2019</td>\n      <td>2</td>\n      <td>ACIR GURGACZ</td>\n      <td>Aluguel de imóveis para escritório político, c...</td>\n      <td>05.914.650/0001-66</td>\n      <td>ENERGISA</td>\n      <td>007236036</td>\n      <td>2019-02-04</td>\n      <td>Despesa com pagamento de energia elétrica para...</td>\n      <td>99.45</td>\n      <td>2116550</td>\n      <td>True</td>\n      <td>ENERGISA</td>\n    </tr>\n    <tr>\n      <th>5</th>\n      <td>2019</td>\n      <td>2</td>\n      <td>ACIR GURGACZ</td>\n      <td>Aluguel de imóveis para escritório político, c...</td>\n      <td>05.914.650/0001-66</td>\n      <td>ENERGISA</td>\n      <td>007236031</td>\n      <td>2019-02-04</td>\n      <td>Despesa com pagamento de energia elétrica para...</td>\n      <td>262.93</td>\n      <td>2116551</td>\n      <td>True</td>\n      <td>ENERGISA</td>\n    </tr>\n    <tr>\n      <th>8</th>\n      <td>2019</td>\n      <td>3</td>\n      <td>ACIR GURGACZ</td>\n      <td>Aluguel de imóveis para escritório político, c...</td>\n      <td>05.914.650/0001-66</td>\n      <td>ENERGISA</td>\n      <td>007887449</td>\n      <td>2019-03-01</td>\n      <td>Pagamento de energia elétrica para o escritóri...</td>\n      <td>85.50</td>\n      <td>2116572</td>\n      <td>True</td>\n      <td>ENERGISA</td>\n    </tr>\n    <tr>\n      <th>...</th>\n      <td>...</td>\n      <td>...</td>\n      <td>...</td>\n      <td>...</td>\n      <td>...</td>\n      <td>...</td>\n      <td>...</td>\n      <td>...</td>\n      <td>...</td>\n      <td>...</td>\n      <td>...</td>\n      <td>...</td>\n      <td>...</td>\n    </tr>\n    <tr>\n      <th>10229</th>\n      <td>2022</td>\n      <td>5</td>\n      <td>ZEQUINHA MARINHO</td>\n      <td>Locomoção, hospedagem, alimentação, combustíve...</td>\n      <td>31.360.727/0001-03</td>\n      <td>TRES CASTROS LTDA.</td>\n      <td>1527</td>\n      <td>2022-05-04</td>\n      <td>NaN</td>\n      <td>327.00</td>\n      <td>2180809</td>\n      <td>True</td>\n      <td>TRES CASTROS LTDA.</td>\n    </tr>\n    <tr>\n      <th>10249</th>\n      <td>2022</td>\n      <td>6</td>\n      <td>ZEQUINHA MARINHO</td>\n      <td>Locomoção, hospedagem, alimentação, combustíve...</td>\n      <td>21.387.460/0004-37</td>\n      <td>AUTO POSTO ROMA</td>\n      <td>113802</td>\n      <td>2022-06-19</td>\n      <td>NaN</td>\n      <td>584.02</td>\n      <td>2183891</td>\n      <td>True</td>\n      <td>AUTO POSTO ROMA</td>\n    </tr>\n    <tr>\n      <th>10250</th>\n      <td>2022</td>\n      <td>6</td>\n      <td>ZEQUINHA MARINHO</td>\n      <td>Locomoção, hospedagem, alimentação, combustíve...</td>\n      <td>05.632.683/0001-13</td>\n      <td>AUTO POSTO TRACYANNE LTDA.</td>\n      <td>141283</td>\n      <td>2022-06-03</td>\n      <td>NaN</td>\n      <td>497.69</td>\n      <td>2183889</td>\n      <td>True</td>\n      <td>AUTO POSTO TRACYANNE LTDA.</td>\n    </tr>\n    <tr>\n      <th>10251</th>\n      <td>2022</td>\n      <td>6</td>\n      <td>ZEQUINHA MARINHO</td>\n      <td>Locomoção, hospedagem, alimentação, combustíve...</td>\n      <td>04.190.866/0001-63</td>\n      <td>LUCILENE DOTTO NICOLODI EIRELI</td>\n      <td>84449</td>\n      <td>2022-06-18</td>\n      <td>NaN</td>\n      <td>400.07</td>\n      <td>2183890</td>\n      <td>True</td>\n      <td>LUCILENE DOTTO NICOLODI EIRELI</td>\n    </tr>\n    <tr>\n      <th>10253</th>\n      <td>2022</td>\n      <td>6</td>\n      <td>ZEQUINHA MARINHO</td>\n      <td>Locomoção, hospedagem, alimentação, combustíve...</td>\n      <td>05.044.096/0002-94</td>\n      <td>POSTO COPA 2002</td>\n      <td>114820</td>\n      <td>2022-06-05</td>\n      <td>NaN</td>\n      <td>525.06</td>\n      <td>2183892</td>\n      <td>True</td>\n      <td>POSTO COPA 2002</td>\n    </tr>\n  </tbody>\n</table>\n<p>62818 rows × 13 columns</p>\n</div>"
     },
     "execution_count": 8,
     "metadata": {},
     "output_type": "execute_result"
    }
   ],
   "source": [
    "dados = dados.merge(fornecedores, left_on='CNPJ_CPF', right_index=True)\n",
    "dados"
   ],
   "metadata": {
    "collapsed": false,
    "pycharm": {
     "name": "#%%\n"
    }
   }
  },
  {
   "cell_type": "code",
   "execution_count": 9,
   "outputs": [
    {
     "data": {
      "text/plain": "        ANO  MES           SENADOR  \\\n0      2019    1      ACIR GURGACZ   \n1      2019    1      ACIR GURGACZ   \n4      2019    2      ACIR GURGACZ   \n5      2019    2      ACIR GURGACZ   \n8      2019    3      ACIR GURGACZ   \n...     ...  ...               ...   \n10229  2022    5  ZEQUINHA MARINHO   \n10249  2022    6  ZEQUINHA MARINHO   \n10250  2022    6  ZEQUINHA MARINHO   \n10251  2022    6  ZEQUINHA MARINHO   \n10253  2022    6  ZEQUINHA MARINHO   \n\n                                            TIPO_DESPESA            CNPJ_CPF  \\\n0      Aluguel de imóveis para escritório político, c...  05.914.650/0001-66   \n1      Aluguel de imóveis para escritório político, c...  05.914.650/0001-66   \n4      Aluguel de imóveis para escritório político, c...  05.914.650/0001-66   \n5      Aluguel de imóveis para escritório político, c...  05.914.650/0001-66   \n8      Aluguel de imóveis para escritório político, c...  05.914.650/0001-66   \n...                                                  ...                 ...   \n10229  Locomoção, hospedagem, alimentação, combustíve...  31.360.727/0001-03   \n10249  Locomoção, hospedagem, alimentação, combustíve...  21.387.460/0004-37   \n10250  Locomoção, hospedagem, alimentação, combustíve...  05.632.683/0001-13   \n10251  Locomoção, hospedagem, alimentação, combustíve...  04.190.866/0001-63   \n10253  Locomoção, hospedagem, alimentação, combustíve...  05.044.096/0002-94   \n\n       DOCUMENTO       DATA  \\\n0      006582758 2019-01-04   \n1      006582755 2019-01-04   \n4      007236036 2019-02-04   \n5      007236031 2019-02-04   \n8      007887449 2019-03-01   \n...          ...        ...   \n10229       1527 2022-05-04   \n10249     113802 2022-06-19   \n10250     141283 2022-06-03   \n10251      84449 2022-06-18   \n10253     114820 2022-06-05   \n\n                                            DETALHAMENTO  VALOR_REEMBOLSADO  \\\n0      Despesa com pagamento de energia elétrica do e...              66.02   \n1      Despesa com pagamento de energia elétrica do e...             139.98   \n4      Despesa com pagamento de energia elétrica para...              99.45   \n5      Despesa com pagamento de energia elétrica para...             262.93   \n8      Pagamento de energia elétrica para o escritóri...              85.50   \n...                                                  ...                ...   \n10229                                                NaN             327.00   \n10249                                                NaN             584.02   \n10250                                                NaN             497.69   \n10251                                                NaN             400.07   \n10253                                                NaN             525.06   \n\n       COD_DOCUMENTO  FORNECEDOR_PESSOA_JURIDICA  \\\n0            2116543                        True   \n1            2116546                        True   \n4            2116550                        True   \n5            2116551                        True   \n8            2116572                        True   \n...              ...                         ...   \n10229        2180809                        True   \n10249        2183891                        True   \n10250        2183889                        True   \n10251        2183890                        True   \n10253        2183892                        True   \n\n                           FORNECEDOR  \n0                            ENERGISA  \n1                            ENERGISA  \n4                            ENERGISA  \n5                            ENERGISA  \n8                            ENERGISA  \n...                               ...  \n10229              TRES CASTROS LTDA.  \n10249                 AUTO POSTO ROMA  \n10250      AUTO POSTO TRACYANNE LTDA.  \n10251  LUCILENE DOTTO NICOLODI EIRELI  \n10253                 POSTO COPA 2002  \n\n[62818 rows x 12 columns]",
      "text/html": "<div>\n<style scoped>\n    .dataframe tbody tr th:only-of-type {\n        vertical-align: middle;\n    }\n\n    .dataframe tbody tr th {\n        vertical-align: top;\n    }\n\n    .dataframe thead th {\n        text-align: right;\n    }\n</style>\n<table border=\"1\" class=\"dataframe\">\n  <thead>\n    <tr style=\"text-align: right;\">\n      <th></th>\n      <th>ANO</th>\n      <th>MES</th>\n      <th>SENADOR</th>\n      <th>TIPO_DESPESA</th>\n      <th>CNPJ_CPF</th>\n      <th>DOCUMENTO</th>\n      <th>DATA</th>\n      <th>DETALHAMENTO</th>\n      <th>VALOR_REEMBOLSADO</th>\n      <th>COD_DOCUMENTO</th>\n      <th>FORNECEDOR_PESSOA_JURIDICA</th>\n      <th>FORNECEDOR</th>\n    </tr>\n  </thead>\n  <tbody>\n    <tr>\n      <th>0</th>\n      <td>2019</td>\n      <td>1</td>\n      <td>ACIR GURGACZ</td>\n      <td>Aluguel de imóveis para escritório político, c...</td>\n      <td>05.914.650/0001-66</td>\n      <td>006582758</td>\n      <td>2019-01-04</td>\n      <td>Despesa com pagamento de energia elétrica do e...</td>\n      <td>66.02</td>\n      <td>2116543</td>\n      <td>True</td>\n      <td>ENERGISA</td>\n    </tr>\n    <tr>\n      <th>1</th>\n      <td>2019</td>\n      <td>1</td>\n      <td>ACIR GURGACZ</td>\n      <td>Aluguel de imóveis para escritório político, c...</td>\n      <td>05.914.650/0001-66</td>\n      <td>006582755</td>\n      <td>2019-01-04</td>\n      <td>Despesa com pagamento de energia elétrica do e...</td>\n      <td>139.98</td>\n      <td>2116546</td>\n      <td>True</td>\n      <td>ENERGISA</td>\n    </tr>\n    <tr>\n      <th>4</th>\n      <td>2019</td>\n      <td>2</td>\n      <td>ACIR GURGACZ</td>\n      <td>Aluguel de imóveis para escritório político, c...</td>\n      <td>05.914.650/0001-66</td>\n      <td>007236036</td>\n      <td>2019-02-04</td>\n      <td>Despesa com pagamento de energia elétrica para...</td>\n      <td>99.45</td>\n      <td>2116550</td>\n      <td>True</td>\n      <td>ENERGISA</td>\n    </tr>\n    <tr>\n      <th>5</th>\n      <td>2019</td>\n      <td>2</td>\n      <td>ACIR GURGACZ</td>\n      <td>Aluguel de imóveis para escritório político, c...</td>\n      <td>05.914.650/0001-66</td>\n      <td>007236031</td>\n      <td>2019-02-04</td>\n      <td>Despesa com pagamento de energia elétrica para...</td>\n      <td>262.93</td>\n      <td>2116551</td>\n      <td>True</td>\n      <td>ENERGISA</td>\n    </tr>\n    <tr>\n      <th>8</th>\n      <td>2019</td>\n      <td>3</td>\n      <td>ACIR GURGACZ</td>\n      <td>Aluguel de imóveis para escritório político, c...</td>\n      <td>05.914.650/0001-66</td>\n      <td>007887449</td>\n      <td>2019-03-01</td>\n      <td>Pagamento de energia elétrica para o escritóri...</td>\n      <td>85.50</td>\n      <td>2116572</td>\n      <td>True</td>\n      <td>ENERGISA</td>\n    </tr>\n    <tr>\n      <th>...</th>\n      <td>...</td>\n      <td>...</td>\n      <td>...</td>\n      <td>...</td>\n      <td>...</td>\n      <td>...</td>\n      <td>...</td>\n      <td>...</td>\n      <td>...</td>\n      <td>...</td>\n      <td>...</td>\n      <td>...</td>\n    </tr>\n    <tr>\n      <th>10229</th>\n      <td>2022</td>\n      <td>5</td>\n      <td>ZEQUINHA MARINHO</td>\n      <td>Locomoção, hospedagem, alimentação, combustíve...</td>\n      <td>31.360.727/0001-03</td>\n      <td>1527</td>\n      <td>2022-05-04</td>\n      <td>NaN</td>\n      <td>327.00</td>\n      <td>2180809</td>\n      <td>True</td>\n      <td>TRES CASTROS LTDA.</td>\n    </tr>\n    <tr>\n      <th>10249</th>\n      <td>2022</td>\n      <td>6</td>\n      <td>ZEQUINHA MARINHO</td>\n      <td>Locomoção, hospedagem, alimentação, combustíve...</td>\n      <td>21.387.460/0004-37</td>\n      <td>113802</td>\n      <td>2022-06-19</td>\n      <td>NaN</td>\n      <td>584.02</td>\n      <td>2183891</td>\n      <td>True</td>\n      <td>AUTO POSTO ROMA</td>\n    </tr>\n    <tr>\n      <th>10250</th>\n      <td>2022</td>\n      <td>6</td>\n      <td>ZEQUINHA MARINHO</td>\n      <td>Locomoção, hospedagem, alimentação, combustíve...</td>\n      <td>05.632.683/0001-13</td>\n      <td>141283</td>\n      <td>2022-06-03</td>\n      <td>NaN</td>\n      <td>497.69</td>\n      <td>2183889</td>\n      <td>True</td>\n      <td>AUTO POSTO TRACYANNE LTDA.</td>\n    </tr>\n    <tr>\n      <th>10251</th>\n      <td>2022</td>\n      <td>6</td>\n      <td>ZEQUINHA MARINHO</td>\n      <td>Locomoção, hospedagem, alimentação, combustíve...</td>\n      <td>04.190.866/0001-63</td>\n      <td>84449</td>\n      <td>2022-06-18</td>\n      <td>NaN</td>\n      <td>400.07</td>\n      <td>2183890</td>\n      <td>True</td>\n      <td>LUCILENE DOTTO NICOLODI EIRELI</td>\n    </tr>\n    <tr>\n      <th>10253</th>\n      <td>2022</td>\n      <td>6</td>\n      <td>ZEQUINHA MARINHO</td>\n      <td>Locomoção, hospedagem, alimentação, combustíve...</td>\n      <td>05.044.096/0002-94</td>\n      <td>114820</td>\n      <td>2022-06-05</td>\n      <td>NaN</td>\n      <td>525.06</td>\n      <td>2183892</td>\n      <td>True</td>\n      <td>POSTO COPA 2002</td>\n    </tr>\n  </tbody>\n</table>\n<p>62818 rows × 12 columns</p>\n</div>"
     },
     "execution_count": 9,
     "metadata": {},
     "output_type": "execute_result"
    }
   ],
   "source": [
    "dados['FORNECEDOR'] = dados['FORNECEDOR_y']\n",
    "dados.drop(columns=['FORNECEDOR_x', 'FORNECEDOR_y'], inplace= True)\n",
    "dados"
   ],
   "metadata": {
    "collapsed": false,
    "pycharm": {
     "name": "#%%\n"
    }
   }
  },
  {
   "cell_type": "code",
   "execution_count": 10,
   "outputs": [
    {
     "data": {
      "text/plain": "2592"
     },
     "execution_count": 10,
     "metadata": {},
     "output_type": "execute_result"
    }
   ],
   "source": [
    "# Há um número expressivo de reembolsos sem identificação do documento de comprovação:\n",
    "# Ideias para análises posteriores: alguma correção entre ausência do documento e fraude? Ou (Ausência do documento, Fornecedor é pessoa física (CPF)) e fraude?\n",
    "dados[dados['DOCUMENTO'].isnull()].shape[0]"
   ],
   "metadata": {
    "collapsed": false,
    "pycharm": {
     "name": "#%%\n"
    }
   }
  },
  {
   "cell_type": "code",
   "execution_count": 11,
   "outputs": [
    {
     "data": {
      "text/plain": "TIPO_DESPESA                                                                                                                                                                                   \nLocomoção, hospedagem, alimentação, combustíveis e lubrificantes                                                                                                                                   22957\nAluguel de imóveis para escritório político, compreendendo despesas concernentes a eles.                                                                                                           13837\nPassagens aéreas, aquáticas e terrestres nacionais                                                                                                                                                 13596\nAquisição de material de consumo para uso no escritório político, inclusive aquisição ou locação de software, despesas postais, aquisição de publicações, locação de móveis e de equipamentos.      4498\nDivulgação da atividade parlamentar                                                                                                                                                                 4109\nContratação de consultorias, assessorias, pesquisas, trabalhos técnicos e outros serviços de apoio ao exercício do mandato parlamentar                                                              3716\nServiços de Segurança Privada                                                                                                                                                                        105\ndtype: int64"
     },
     "execution_count": 11,
     "metadata": {},
     "output_type": "execute_result"
    }
   ],
   "source": [
    "#Tipos de Despesas\n",
    "dados.value_counts(['TIPO_DESPESA']).round(2)"
   ],
   "metadata": {
    "collapsed": false,
    "pycharm": {
     "name": "#%%\n"
    }
   }
  },
  {
   "cell_type": "code",
   "execution_count": 12,
   "outputs": [
    {
     "data": {
      "text/plain": "        ANO  MES                  SENADOR  \\\n9113   2020   12           MARCOS ROGÉRIO   \n10956  2021    4           MARCOS ROGÉRIO   \n13265  2019    5            MARCIO BITTAR   \n2271   2020   10           CONFÚCIO MOURA   \n2628   2021    4           CONFÚCIO MOURA   \n...     ...  ...                      ...   \n8090   2022    2          RENAN CALHEIROS   \n8107   2022    3          RENAN CALHEIROS   \n8254   2022    2            RODRIGO CUNHA   \n9000   2022    1         SORAYA THRONICKE   \n9482   2022    3  VENEZIANO VITAL DO RÊGO   \n\n                                            TIPO_DESPESA            CNPJ_CPF  \\\n9113   Aluguel de imóveis para escritório político, c...  05.914.650/0001-66   \n10956  Aluguel de imóveis para escritório político, c...  05.914.650/0001-66   \n13265  Aluguel de imóveis para escritório político, c...  05.423.963/0001-11   \n2271                 Divulgação da atividade parlamentar  13.279.434/0001-14   \n2628                 Divulgação da atividade parlamentar  13.279.434/0001-14   \n...                                                  ...                 ...   \n8090   Contratação de consultorias, assessorias, pesq...  35.784.291/0001-30   \n8107   Contratação de consultorias, assessorias, pesq...  38.270.916/0001-34   \n8254   Contratação de consultorias, assessorias, pesq...  33.617.597/0001-77   \n9000   Aquisição de material de consumo para uso no e...  32.887.404/0001-35   \n9482                 Divulgação da atividade parlamentar  29.504.038/0001-83   \n\n       DOCUMENTO       DATA  \\\n9113         S/N 2021-01-13   \n10956        S/N 2021-05-13   \n13265  176770375 2019-06-03   \n2271         466 2020-11-10   \n2628         495 2021-05-03   \n...          ...        ...   \n8090           4 2022-03-29   \n8107           3 2022-04-25   \n8254           3 2022-03-04   \n9000    00005868 2022-02-04   \n9482         363 2022-04-07   \n\n                                            DETALHAMENTO  VALOR_REEMBOLSADO  \\\n9113                                                 NaN             191.69   \n10956                                                NaN             172.41   \n13265  VALOR PAGO REFRENTE AO SERVIÇO DE TELEFONIA CE...             132.49   \n2271     Despesa com divulgação da atividade parlamentar             400.00   \n2628     Despesa com divulgação da atividade parlamentar             400.00   \n...                                                  ...                ...   \n8090   Prestação de serviços de elaboração de vídeos ...            3000.00   \n8107   Prestação de serviços de elaboração de vídeos,...            1400.00   \n8254   DESPESA DE CONSULTORIA EM MKT DIGITAL DO SENAD...            1670.00   \n9000                                                 NaN             150.00   \n9482                                                 NaN            1500.00   \n\n       COD_DOCUMENTO  FORNECEDOR_PESSOA_JURIDICA  \\\n9113         2154158                        True   \n10956        2160325                        True   \n13265        2125889                        True   \n2271         2151319                        True   \n2628         2159613                        True   \n...              ...                         ...   \n8090         2177255                        True   \n8107         2178854                        True   \n8254         2177292                        True   \n9000         2174152                        True   \n9482         2178016                        True   \n\n                                              FORNECEDOR  DIA  \\\n9113                                            ENERGISA    1   \n10956                                           ENERGISA    1   \n13265                                      OI MÓVEL S.A.    1   \n2271   E NASCIMENTO AGÊNCIA DE PUBLICIDADE E MARKETIN...    1   \n2628   E NASCIMENTO AGÊNCIA DE PUBLICIDADE E MARKETIN...    1   \n...                                                  ...  ...   \n8090                WALDEMBERGUE DA SILVA DANTAS PEREIRA    1   \n8107                    FILIPE JOSE ALBUQUERQUE CORDEIRO    1   \n8254                     PRISCILA TENORIO TOLEDO PEIXOTO    1   \n9000      Denis Freire Rocha Tecnologia em informação ME    1   \n9482                           MICHELINE MARTINS MARQUES    1   \n\n       ATRASO_SOLIC_REEMBOLSO  \n9113                       -1  \n10956                      -1  \n13265                      -1  \n2271                       -1  \n2628                       -1  \n...                       ...  \n8090                       -1  \n8107                       -1  \n8254                       -1  \n9000                       -1  \n9482                       -1  \n\n[5165 rows x 14 columns]",
      "text/html": "<div>\n<style scoped>\n    .dataframe tbody tr th:only-of-type {\n        vertical-align: middle;\n    }\n\n    .dataframe tbody tr th {\n        vertical-align: top;\n    }\n\n    .dataframe thead th {\n        text-align: right;\n    }\n</style>\n<table border=\"1\" class=\"dataframe\">\n  <thead>\n    <tr style=\"text-align: right;\">\n      <th></th>\n      <th>ANO</th>\n      <th>MES</th>\n      <th>SENADOR</th>\n      <th>TIPO_DESPESA</th>\n      <th>CNPJ_CPF</th>\n      <th>DOCUMENTO</th>\n      <th>DATA</th>\n      <th>DETALHAMENTO</th>\n      <th>VALOR_REEMBOLSADO</th>\n      <th>COD_DOCUMENTO</th>\n      <th>FORNECEDOR_PESSOA_JURIDICA</th>\n      <th>FORNECEDOR</th>\n      <th>DIA</th>\n      <th>ATRASO_SOLIC_REEMBOLSO</th>\n    </tr>\n  </thead>\n  <tbody>\n    <tr>\n      <th>9113</th>\n      <td>2020</td>\n      <td>12</td>\n      <td>MARCOS ROGÉRIO</td>\n      <td>Aluguel de imóveis para escritório político, c...</td>\n      <td>05.914.650/0001-66</td>\n      <td>S/N</td>\n      <td>2021-01-13</td>\n      <td>NaN</td>\n      <td>191.69</td>\n      <td>2154158</td>\n      <td>True</td>\n      <td>ENERGISA</td>\n      <td>1</td>\n      <td>-1</td>\n    </tr>\n    <tr>\n      <th>10956</th>\n      <td>2021</td>\n      <td>4</td>\n      <td>MARCOS ROGÉRIO</td>\n      <td>Aluguel de imóveis para escritório político, c...</td>\n      <td>05.914.650/0001-66</td>\n      <td>S/N</td>\n      <td>2021-05-13</td>\n      <td>NaN</td>\n      <td>172.41</td>\n      <td>2160325</td>\n      <td>True</td>\n      <td>ENERGISA</td>\n      <td>1</td>\n      <td>-1</td>\n    </tr>\n    <tr>\n      <th>13265</th>\n      <td>2019</td>\n      <td>5</td>\n      <td>MARCIO BITTAR</td>\n      <td>Aluguel de imóveis para escritório político, c...</td>\n      <td>05.423.963/0001-11</td>\n      <td>176770375</td>\n      <td>2019-06-03</td>\n      <td>VALOR PAGO REFRENTE AO SERVIÇO DE TELEFONIA CE...</td>\n      <td>132.49</td>\n      <td>2125889</td>\n      <td>True</td>\n      <td>OI MÓVEL S.A.</td>\n      <td>1</td>\n      <td>-1</td>\n    </tr>\n    <tr>\n      <th>2271</th>\n      <td>2020</td>\n      <td>10</td>\n      <td>CONFÚCIO MOURA</td>\n      <td>Divulgação da atividade parlamentar</td>\n      <td>13.279.434/0001-14</td>\n      <td>466</td>\n      <td>2020-11-10</td>\n      <td>Despesa com divulgação da atividade parlamentar</td>\n      <td>400.00</td>\n      <td>2151319</td>\n      <td>True</td>\n      <td>E NASCIMENTO AGÊNCIA DE PUBLICIDADE E MARKETIN...</td>\n      <td>1</td>\n      <td>-1</td>\n    </tr>\n    <tr>\n      <th>2628</th>\n      <td>2021</td>\n      <td>4</td>\n      <td>CONFÚCIO MOURA</td>\n      <td>Divulgação da atividade parlamentar</td>\n      <td>13.279.434/0001-14</td>\n      <td>495</td>\n      <td>2021-05-03</td>\n      <td>Despesa com divulgação da atividade parlamentar</td>\n      <td>400.00</td>\n      <td>2159613</td>\n      <td>True</td>\n      <td>E NASCIMENTO AGÊNCIA DE PUBLICIDADE E MARKETIN...</td>\n      <td>1</td>\n      <td>-1</td>\n    </tr>\n    <tr>\n      <th>...</th>\n      <td>...</td>\n      <td>...</td>\n      <td>...</td>\n      <td>...</td>\n      <td>...</td>\n      <td>...</td>\n      <td>...</td>\n      <td>...</td>\n      <td>...</td>\n      <td>...</td>\n      <td>...</td>\n      <td>...</td>\n      <td>...</td>\n      <td>...</td>\n    </tr>\n    <tr>\n      <th>8090</th>\n      <td>2022</td>\n      <td>2</td>\n      <td>RENAN CALHEIROS</td>\n      <td>Contratação de consultorias, assessorias, pesq...</td>\n      <td>35.784.291/0001-30</td>\n      <td>4</td>\n      <td>2022-03-29</td>\n      <td>Prestação de serviços de elaboração de vídeos ...</td>\n      <td>3000.00</td>\n      <td>2177255</td>\n      <td>True</td>\n      <td>WALDEMBERGUE DA SILVA DANTAS PEREIRA</td>\n      <td>1</td>\n      <td>-1</td>\n    </tr>\n    <tr>\n      <th>8107</th>\n      <td>2022</td>\n      <td>3</td>\n      <td>RENAN CALHEIROS</td>\n      <td>Contratação de consultorias, assessorias, pesq...</td>\n      <td>38.270.916/0001-34</td>\n      <td>3</td>\n      <td>2022-04-25</td>\n      <td>Prestação de serviços de elaboração de vídeos,...</td>\n      <td>1400.00</td>\n      <td>2178854</td>\n      <td>True</td>\n      <td>FILIPE JOSE ALBUQUERQUE CORDEIRO</td>\n      <td>1</td>\n      <td>-1</td>\n    </tr>\n    <tr>\n      <th>8254</th>\n      <td>2022</td>\n      <td>2</td>\n      <td>RODRIGO CUNHA</td>\n      <td>Contratação de consultorias, assessorias, pesq...</td>\n      <td>33.617.597/0001-77</td>\n      <td>3</td>\n      <td>2022-03-04</td>\n      <td>DESPESA DE CONSULTORIA EM MKT DIGITAL DO SENAD...</td>\n      <td>1670.00</td>\n      <td>2177292</td>\n      <td>True</td>\n      <td>PRISCILA TENORIO TOLEDO PEIXOTO</td>\n      <td>1</td>\n      <td>-1</td>\n    </tr>\n    <tr>\n      <th>9000</th>\n      <td>2022</td>\n      <td>1</td>\n      <td>SORAYA THRONICKE</td>\n      <td>Aquisição de material de consumo para uso no e...</td>\n      <td>32.887.404/0001-35</td>\n      <td>00005868</td>\n      <td>2022-02-04</td>\n      <td>NaN</td>\n      <td>150.00</td>\n      <td>2174152</td>\n      <td>True</td>\n      <td>Denis Freire Rocha Tecnologia em informação ME</td>\n      <td>1</td>\n      <td>-1</td>\n    </tr>\n    <tr>\n      <th>9482</th>\n      <td>2022</td>\n      <td>3</td>\n      <td>VENEZIANO VITAL DO RÊGO</td>\n      <td>Divulgação da atividade parlamentar</td>\n      <td>29.504.038/0001-83</td>\n      <td>363</td>\n      <td>2022-04-07</td>\n      <td>NaN</td>\n      <td>1500.00</td>\n      <td>2178016</td>\n      <td>True</td>\n      <td>MICHELINE MARTINS MARQUES</td>\n      <td>1</td>\n      <td>-1</td>\n    </tr>\n  </tbody>\n</table>\n<p>5165 rows × 14 columns</p>\n</div>"
     },
     "execution_count": 12,
     "metadata": {},
     "output_type": "execute_result"
    }
   ],
   "source": [
    "# Adicionando nova coluna ATRASO_SOLIC_REEMBOLSO com a quantidade de meses que o senador demorou para solicitar o reembolso, a partir da data do documento.\n",
    "# Ideias para análises posteriores: alguma correção entre maior atraso e fraude?\n",
    "dados['DIA'] = 1\n",
    "data_reembolso = pd.to_datetime(dados[['ANO', 'MES', 'DIA']].rename(columns={'ANO': 'year', 'MES': 'month', 'DIA': 'day'}))\n",
    "dados['ATRASO_SOLIC_REEMBOLSO'] = (data_reembolso.dt.year - dados['DATA'].dt.year)*12 + (data_reembolso.dt.month - dados['DATA'].dt.month)\n",
    "dados[dados['ATRASO_SOLIC_REEMBOLSO'] < 0]"
   ],
   "metadata": {
    "collapsed": false,
    "pycharm": {
     "name": "#%%\n"
    }
   }
  },
  {
   "cell_type": "code",
   "execution_count": 13,
   "outputs": [
    {
     "data": {
      "text/plain": "        ANO  MES            SENADOR  \\\n7777   2022    3        PAULO ROCHA   \n7747   2022    2        PAULO ROCHA   \n7829   2022    7        PAULO ROCHA   \n12347  2020    3   TASSO JEREISSATI   \n208    2021    2  ALESSANDRO VIEIRA   \n8466   2022    2   ROGÉRIO CARVALHO   \n7751   2022    2        PAULO ROCHA   \n\n                                            TIPO_DESPESA            CNPJ_CPF  \\\n7777   Passagens aéreas, aquáticas e terrestres nacio...  16.978.175/0001-08   \n7747   Aluguel de imóveis para escritório político, c...  02.558.157/0001-62   \n7829   Aluguel de imóveis para escritório político, c...  04.895.728/0001-80   \n12347  Contratação de consultorias, assessorias, pesq...  20.647.510/0001-62   \n208    Passagens aéreas, aquáticas e terrestres nacio...  39.827.859/0001-04   \n8466   Passagens aéreas, aquáticas e terrestres nacio...  34.848.898/0001-74   \n7751   Contratação de consultorias, assessorias, pesq...  34.527.666/0001-14   \n\n              DOCUMENTO       DATA  \\\n7777             GENXJE 2002-03-16   \n7747         1129495338 2002-02-11   \n7829   0202206014025948 2002-06-21   \n12347          00000061 2002-03-14   \n208              LNXEJH 2002-02-19   \n8466             SRPSJX 2002-02-02   \n7751                 17 2002-03-22   \n\n                                            DETALHAMENTO  VALOR_REEMBOLSADO  \\\n7777   Companhia Aérea: LATAM, Localizador: GENXJE. P...            3553.23   \n7747                                                 NaN            1106.13   \n7829                                                 NaN            1605.00   \n12347                                                NaN           14100.00   \n208    Companhia Aérea: LATAM, Localizador: LNXEJH. P...            2666.43   \n8466   Companhia Aérea: LATAM, Localizador: SRPSJX. P...            2260.60   \n7751                                                 NaN            8000.00   \n\n       COD_DOCUMENTO  FORNECEDOR_PESSOA_JURIDICA  \\\n7777         2176808                        True   \n7747         2174871                        True   \n7829         2183727                        True   \n12347        2143467                        True   \n208          2156738                        True   \n8466         2174993                        True   \n7751         2176739                        True   \n\n                                          FORNECEDOR  DIA  \\\n7777                 ADRIA VIAGENS E TURISMO LTDA ME    1   \n7747                    VIVO - TELEFÔNICA BRASIL S/A    1   \n7829            CELPA CENTRAIS ELÉTRICAS DO PARÁ S/A    1   \n12347  FAAV CONSULTORIA ECONOMICA E EMPRESARIAL LTDA    1   \n208                                          MM TOUR    1   \n8466                               Peakalika Turismo    1   \n7751            Nailson Santos Guimarães 12404195204    1   \n\n       ATRASO_SOLIC_REEMBOLSO  \n7777                      240  \n7747                      240  \n7829                      241  \n12347                     216  \n208                       228  \n8466                      240  \n7751                      239  ",
      "text/html": "<div>\n<style scoped>\n    .dataframe tbody tr th:only-of-type {\n        vertical-align: middle;\n    }\n\n    .dataframe tbody tr th {\n        vertical-align: top;\n    }\n\n    .dataframe thead th {\n        text-align: right;\n    }\n</style>\n<table border=\"1\" class=\"dataframe\">\n  <thead>\n    <tr style=\"text-align: right;\">\n      <th></th>\n      <th>ANO</th>\n      <th>MES</th>\n      <th>SENADOR</th>\n      <th>TIPO_DESPESA</th>\n      <th>CNPJ_CPF</th>\n      <th>DOCUMENTO</th>\n      <th>DATA</th>\n      <th>DETALHAMENTO</th>\n      <th>VALOR_REEMBOLSADO</th>\n      <th>COD_DOCUMENTO</th>\n      <th>FORNECEDOR_PESSOA_JURIDICA</th>\n      <th>FORNECEDOR</th>\n      <th>DIA</th>\n      <th>ATRASO_SOLIC_REEMBOLSO</th>\n    </tr>\n  </thead>\n  <tbody>\n    <tr>\n      <th>7777</th>\n      <td>2022</td>\n      <td>3</td>\n      <td>PAULO ROCHA</td>\n      <td>Passagens aéreas, aquáticas e terrestres nacio...</td>\n      <td>16.978.175/0001-08</td>\n      <td>GENXJE</td>\n      <td>2002-03-16</td>\n      <td>Companhia Aérea: LATAM, Localizador: GENXJE. P...</td>\n      <td>3553.23</td>\n      <td>2176808</td>\n      <td>True</td>\n      <td>ADRIA VIAGENS E TURISMO LTDA ME</td>\n      <td>1</td>\n      <td>240</td>\n    </tr>\n    <tr>\n      <th>7747</th>\n      <td>2022</td>\n      <td>2</td>\n      <td>PAULO ROCHA</td>\n      <td>Aluguel de imóveis para escritório político, c...</td>\n      <td>02.558.157/0001-62</td>\n      <td>1129495338</td>\n      <td>2002-02-11</td>\n      <td>NaN</td>\n      <td>1106.13</td>\n      <td>2174871</td>\n      <td>True</td>\n      <td>VIVO - TELEFÔNICA BRASIL S/A</td>\n      <td>1</td>\n      <td>240</td>\n    </tr>\n    <tr>\n      <th>7829</th>\n      <td>2022</td>\n      <td>7</td>\n      <td>PAULO ROCHA</td>\n      <td>Aluguel de imóveis para escritório político, c...</td>\n      <td>04.895.728/0001-80</td>\n      <td>0202206014025948</td>\n      <td>2002-06-21</td>\n      <td>NaN</td>\n      <td>1605.00</td>\n      <td>2183727</td>\n      <td>True</td>\n      <td>CELPA CENTRAIS ELÉTRICAS DO PARÁ S/A</td>\n      <td>1</td>\n      <td>241</td>\n    </tr>\n    <tr>\n      <th>12347</th>\n      <td>2020</td>\n      <td>3</td>\n      <td>TASSO JEREISSATI</td>\n      <td>Contratação de consultorias, assessorias, pesq...</td>\n      <td>20.647.510/0001-62</td>\n      <td>00000061</td>\n      <td>2002-03-14</td>\n      <td>NaN</td>\n      <td>14100.00</td>\n      <td>2143467</td>\n      <td>True</td>\n      <td>FAAV CONSULTORIA ECONOMICA E EMPRESARIAL LTDA</td>\n      <td>1</td>\n      <td>216</td>\n    </tr>\n    <tr>\n      <th>208</th>\n      <td>2021</td>\n      <td>2</td>\n      <td>ALESSANDRO VIEIRA</td>\n      <td>Passagens aéreas, aquáticas e terrestres nacio...</td>\n      <td>39.827.859/0001-04</td>\n      <td>LNXEJH</td>\n      <td>2002-02-19</td>\n      <td>Companhia Aérea: LATAM, Localizador: LNXEJH. P...</td>\n      <td>2666.43</td>\n      <td>2156738</td>\n      <td>True</td>\n      <td>MM TOUR</td>\n      <td>1</td>\n      <td>228</td>\n    </tr>\n    <tr>\n      <th>8466</th>\n      <td>2022</td>\n      <td>2</td>\n      <td>ROGÉRIO CARVALHO</td>\n      <td>Passagens aéreas, aquáticas e terrestres nacio...</td>\n      <td>34.848.898/0001-74</td>\n      <td>SRPSJX</td>\n      <td>2002-02-02</td>\n      <td>Companhia Aérea: LATAM, Localizador: SRPSJX. P...</td>\n      <td>2260.60</td>\n      <td>2174993</td>\n      <td>True</td>\n      <td>Peakalika Turismo</td>\n      <td>1</td>\n      <td>240</td>\n    </tr>\n    <tr>\n      <th>7751</th>\n      <td>2022</td>\n      <td>2</td>\n      <td>PAULO ROCHA</td>\n      <td>Contratação de consultorias, assessorias, pesq...</td>\n      <td>34.527.666/0001-14</td>\n      <td>17</td>\n      <td>2002-03-22</td>\n      <td>NaN</td>\n      <td>8000.00</td>\n      <td>2176739</td>\n      <td>True</td>\n      <td>Nailson Santos Guimarães 12404195204</td>\n      <td>1</td>\n      <td>239</td>\n    </tr>\n  </tbody>\n</table>\n</div>"
     },
     "execution_count": 13,
     "metadata": {},
     "output_type": "execute_result"
    }
   ],
   "source": [
    "dados[dados['ATRASO_SOLIC_REEMBOLSO'] > 200]"
   ],
   "metadata": {
    "collapsed": false,
    "pycharm": {
     "name": "#%%\n"
    }
   }
  },
  {
   "cell_type": "code",
   "execution_count": 14,
   "outputs": [
    {
     "data": {
      "text/plain": "        ANO  MES           SENADOR  \\\n0      2019    1      ACIR GURGACZ   \n1      2019    1      ACIR GURGACZ   \n4      2019    2      ACIR GURGACZ   \n5      2019    2      ACIR GURGACZ   \n8      2019    3      ACIR GURGACZ   \n...     ...  ...               ...   \n10229  2022    5  ZEQUINHA MARINHO   \n10249  2022    6  ZEQUINHA MARINHO   \n10250  2022    6  ZEQUINHA MARINHO   \n10251  2022    6  ZEQUINHA MARINHO   \n10253  2022    6  ZEQUINHA MARINHO   \n\n                                            TIPO_DESPESA            CNPJ_CPF  \\\n0      Aluguel de imóveis para escritório político, c...  05.914.650/0001-66   \n1      Aluguel de imóveis para escritório político, c...  05.914.650/0001-66   \n4      Aluguel de imóveis para escritório político, c...  05.914.650/0001-66   \n5      Aluguel de imóveis para escritório político, c...  05.914.650/0001-66   \n8      Aluguel de imóveis para escritório político, c...  05.914.650/0001-66   \n...                                                  ...                 ...   \n10229  Locomoção, hospedagem, alimentação, combustíve...  31.360.727/0001-03   \n10249  Locomoção, hospedagem, alimentação, combustíve...  21.387.460/0004-37   \n10250  Locomoção, hospedagem, alimentação, combustíve...  05.632.683/0001-13   \n10251  Locomoção, hospedagem, alimentação, combustíve...  04.190.866/0001-63   \n10253  Locomoção, hospedagem, alimentação, combustíve...  05.044.096/0002-94   \n\n       DOCUMENTO       DATA  \\\n0      006582758 2019-01-04   \n1      006582755 2019-01-04   \n4      007236036 2019-02-04   \n5      007236031 2019-02-04   \n8      007887449 2019-03-01   \n...          ...        ...   \n10229       1527 2022-05-04   \n10249     113802 2022-06-19   \n10250     141283 2022-06-03   \n10251      84449 2022-06-18   \n10253     114820 2022-06-05   \n\n                                            DETALHAMENTO  VALOR_REEMBOLSADO  \\\n0      Despesa com pagamento de energia elétrica do e...              66.02   \n1      Despesa com pagamento de energia elétrica do e...             139.98   \n4      Despesa com pagamento de energia elétrica para...              99.45   \n5      Despesa com pagamento de energia elétrica para...             262.93   \n8      Pagamento de energia elétrica para o escritóri...              85.50   \n...                                                  ...                ...   \n10229                                                NaN             327.00   \n10249                                                NaN             584.02   \n10250                                                NaN             497.69   \n10251                                                NaN             400.07   \n10253                                                NaN             525.06   \n\n       COD_DOCUMENTO  FORNECEDOR_PESSOA_JURIDICA  \\\n0            2116543                        True   \n1            2116546                        True   \n4            2116550                        True   \n5            2116551                        True   \n8            2116572                        True   \n...              ...                         ...   \n10229        2180809                        True   \n10249        2183891                        True   \n10250        2183889                        True   \n10251        2183890                        True   \n10253        2183892                        True   \n\n                           FORNECEDOR  DIA  ATRASO_SOLIC_REEMBOLSO  \n0                            ENERGISA    1                       0  \n1                            ENERGISA    1                       0  \n4                            ENERGISA    1                       0  \n5                            ENERGISA    1                       0  \n8                            ENERGISA    1                       0  \n...                               ...  ...                     ...  \n10229              TRES CASTROS LTDA.    1                       0  \n10249                 AUTO POSTO ROMA    1                       0  \n10250      AUTO POSTO TRACYANNE LTDA.    1                       0  \n10251  LUCILENE DOTTO NICOLODI EIRELI    1                       0  \n10253                 POSTO COPA 2002    1                       0  \n\n[62818 rows x 14 columns]",
      "text/html": "<div>\n<style scoped>\n    .dataframe tbody tr th:only-of-type {\n        vertical-align: middle;\n    }\n\n    .dataframe tbody tr th {\n        vertical-align: top;\n    }\n\n    .dataframe thead th {\n        text-align: right;\n    }\n</style>\n<table border=\"1\" class=\"dataframe\">\n  <thead>\n    <tr style=\"text-align: right;\">\n      <th></th>\n      <th>ANO</th>\n      <th>MES</th>\n      <th>SENADOR</th>\n      <th>TIPO_DESPESA</th>\n      <th>CNPJ_CPF</th>\n      <th>DOCUMENTO</th>\n      <th>DATA</th>\n      <th>DETALHAMENTO</th>\n      <th>VALOR_REEMBOLSADO</th>\n      <th>COD_DOCUMENTO</th>\n      <th>FORNECEDOR_PESSOA_JURIDICA</th>\n      <th>FORNECEDOR</th>\n      <th>DIA</th>\n      <th>ATRASO_SOLIC_REEMBOLSO</th>\n    </tr>\n  </thead>\n  <tbody>\n    <tr>\n      <th>0</th>\n      <td>2019</td>\n      <td>1</td>\n      <td>ACIR GURGACZ</td>\n      <td>Aluguel de imóveis para escritório político, c...</td>\n      <td>05.914.650/0001-66</td>\n      <td>006582758</td>\n      <td>2019-01-04</td>\n      <td>Despesa com pagamento de energia elétrica do e...</td>\n      <td>66.02</td>\n      <td>2116543</td>\n      <td>True</td>\n      <td>ENERGISA</td>\n      <td>1</td>\n      <td>0</td>\n    </tr>\n    <tr>\n      <th>1</th>\n      <td>2019</td>\n      <td>1</td>\n      <td>ACIR GURGACZ</td>\n      <td>Aluguel de imóveis para escritório político, c...</td>\n      <td>05.914.650/0001-66</td>\n      <td>006582755</td>\n      <td>2019-01-04</td>\n      <td>Despesa com pagamento de energia elétrica do e...</td>\n      <td>139.98</td>\n      <td>2116546</td>\n      <td>True</td>\n      <td>ENERGISA</td>\n      <td>1</td>\n      <td>0</td>\n    </tr>\n    <tr>\n      <th>4</th>\n      <td>2019</td>\n      <td>2</td>\n      <td>ACIR GURGACZ</td>\n      <td>Aluguel de imóveis para escritório político, c...</td>\n      <td>05.914.650/0001-66</td>\n      <td>007236036</td>\n      <td>2019-02-04</td>\n      <td>Despesa com pagamento de energia elétrica para...</td>\n      <td>99.45</td>\n      <td>2116550</td>\n      <td>True</td>\n      <td>ENERGISA</td>\n      <td>1</td>\n      <td>0</td>\n    </tr>\n    <tr>\n      <th>5</th>\n      <td>2019</td>\n      <td>2</td>\n      <td>ACIR GURGACZ</td>\n      <td>Aluguel de imóveis para escritório político, c...</td>\n      <td>05.914.650/0001-66</td>\n      <td>007236031</td>\n      <td>2019-02-04</td>\n      <td>Despesa com pagamento de energia elétrica para...</td>\n      <td>262.93</td>\n      <td>2116551</td>\n      <td>True</td>\n      <td>ENERGISA</td>\n      <td>1</td>\n      <td>0</td>\n    </tr>\n    <tr>\n      <th>8</th>\n      <td>2019</td>\n      <td>3</td>\n      <td>ACIR GURGACZ</td>\n      <td>Aluguel de imóveis para escritório político, c...</td>\n      <td>05.914.650/0001-66</td>\n      <td>007887449</td>\n      <td>2019-03-01</td>\n      <td>Pagamento de energia elétrica para o escritóri...</td>\n      <td>85.50</td>\n      <td>2116572</td>\n      <td>True</td>\n      <td>ENERGISA</td>\n      <td>1</td>\n      <td>0</td>\n    </tr>\n    <tr>\n      <th>...</th>\n      <td>...</td>\n      <td>...</td>\n      <td>...</td>\n      <td>...</td>\n      <td>...</td>\n      <td>...</td>\n      <td>...</td>\n      <td>...</td>\n      <td>...</td>\n      <td>...</td>\n      <td>...</td>\n      <td>...</td>\n      <td>...</td>\n      <td>...</td>\n    </tr>\n    <tr>\n      <th>10229</th>\n      <td>2022</td>\n      <td>5</td>\n      <td>ZEQUINHA MARINHO</td>\n      <td>Locomoção, hospedagem, alimentação, combustíve...</td>\n      <td>31.360.727/0001-03</td>\n      <td>1527</td>\n      <td>2022-05-04</td>\n      <td>NaN</td>\n      <td>327.00</td>\n      <td>2180809</td>\n      <td>True</td>\n      <td>TRES CASTROS LTDA.</td>\n      <td>1</td>\n      <td>0</td>\n    </tr>\n    <tr>\n      <th>10249</th>\n      <td>2022</td>\n      <td>6</td>\n      <td>ZEQUINHA MARINHO</td>\n      <td>Locomoção, hospedagem, alimentação, combustíve...</td>\n      <td>21.387.460/0004-37</td>\n      <td>113802</td>\n      <td>2022-06-19</td>\n      <td>NaN</td>\n      <td>584.02</td>\n      <td>2183891</td>\n      <td>True</td>\n      <td>AUTO POSTO ROMA</td>\n      <td>1</td>\n      <td>0</td>\n    </tr>\n    <tr>\n      <th>10250</th>\n      <td>2022</td>\n      <td>6</td>\n      <td>ZEQUINHA MARINHO</td>\n      <td>Locomoção, hospedagem, alimentação, combustíve...</td>\n      <td>05.632.683/0001-13</td>\n      <td>141283</td>\n      <td>2022-06-03</td>\n      <td>NaN</td>\n      <td>497.69</td>\n      <td>2183889</td>\n      <td>True</td>\n      <td>AUTO POSTO TRACYANNE LTDA.</td>\n      <td>1</td>\n      <td>0</td>\n    </tr>\n    <tr>\n      <th>10251</th>\n      <td>2022</td>\n      <td>6</td>\n      <td>ZEQUINHA MARINHO</td>\n      <td>Locomoção, hospedagem, alimentação, combustíve...</td>\n      <td>04.190.866/0001-63</td>\n      <td>84449</td>\n      <td>2022-06-18</td>\n      <td>NaN</td>\n      <td>400.07</td>\n      <td>2183890</td>\n      <td>True</td>\n      <td>LUCILENE DOTTO NICOLODI EIRELI</td>\n      <td>1</td>\n      <td>0</td>\n    </tr>\n    <tr>\n      <th>10253</th>\n      <td>2022</td>\n      <td>6</td>\n      <td>ZEQUINHA MARINHO</td>\n      <td>Locomoção, hospedagem, alimentação, combustíve...</td>\n      <td>05.044.096/0002-94</td>\n      <td>114820</td>\n      <td>2022-06-05</td>\n      <td>NaN</td>\n      <td>525.06</td>\n      <td>2183892</td>\n      <td>True</td>\n      <td>POSTO COPA 2002</td>\n      <td>1</td>\n      <td>0</td>\n    </tr>\n  </tbody>\n</table>\n<p>62818 rows × 14 columns</p>\n</div>"
     },
     "execution_count": 14,
     "metadata": {},
     "output_type": "execute_result"
    }
   ],
   "source": [
    "dados"
   ],
   "metadata": {
    "collapsed": false,
    "pycharm": {
     "name": "#%%\n"
    }
   }
  },
  {
   "cell_type": "code",
   "execution_count": 21,
   "outputs": [
    {
     "data": {
      "text/plain": "        ANO  MES              SENADOR  \\\n13262  2020   12  WELLINGTON FAGUNDES   \n\n                                            TIPO_DESPESA            CNPJ_CPF  \\\n13262  Contratação de consultorias, assessorias, pesq...  23.721.017/0001-33   \n\n         DOCUMENTO       DATA  \\\n13262  000.000.765 2020-12-21   \n\n                                            DETALHAMENTO  VALOR_REEMBOLSADO  \\\n13262  Despesa com serviço de consultoria e assessori...           120000.0   \n\n       COD_DOCUMENTO  FORNECEDOR_PESSOA_JURIDICA                FORNECEDOR  \\\n13262        2153883                        True  INCINE VÍDEO E PRODUÇÕES   \n\n       DIA  ATRASO_SOLIC_REEMBOLSO  \n13262    1                       0  ",
      "text/html": "<div>\n<style scoped>\n    .dataframe tbody tr th:only-of-type {\n        vertical-align: middle;\n    }\n\n    .dataframe tbody tr th {\n        vertical-align: top;\n    }\n\n    .dataframe thead th {\n        text-align: right;\n    }\n</style>\n<table border=\"1\" class=\"dataframe\">\n  <thead>\n    <tr style=\"text-align: right;\">\n      <th></th>\n      <th>ANO</th>\n      <th>MES</th>\n      <th>SENADOR</th>\n      <th>TIPO_DESPESA</th>\n      <th>CNPJ_CPF</th>\n      <th>DOCUMENTO</th>\n      <th>DATA</th>\n      <th>DETALHAMENTO</th>\n      <th>VALOR_REEMBOLSADO</th>\n      <th>COD_DOCUMENTO</th>\n      <th>FORNECEDOR_PESSOA_JURIDICA</th>\n      <th>FORNECEDOR</th>\n      <th>DIA</th>\n      <th>ATRASO_SOLIC_REEMBOLSO</th>\n    </tr>\n  </thead>\n  <tbody>\n    <tr>\n      <th>13262</th>\n      <td>2020</td>\n      <td>12</td>\n      <td>WELLINGTON FAGUNDES</td>\n      <td>Contratação de consultorias, assessorias, pesq...</td>\n      <td>23.721.017/0001-33</td>\n      <td>000.000.765</td>\n      <td>2020-12-21</td>\n      <td>Despesa com serviço de consultoria e assessori...</td>\n      <td>120000.0</td>\n      <td>2153883</td>\n      <td>True</td>\n      <td>INCINE VÍDEO E PRODUÇÕES</td>\n      <td>1</td>\n      <td>0</td>\n    </tr>\n  </tbody>\n</table>\n</div>"
     },
     "execution_count": 21,
     "metadata": {},
     "output_type": "execute_result"
    }
   ],
   "source": [
    "dados.describe().round(2)\n",
    "dados[dados['VALOR_REEMBOLSADO'] == 120000]"
   ],
   "metadata": {
    "collapsed": false,
    "pycharm": {
     "name": "#%%\n"
    }
   }
  }
 ],
 "metadata": {
  "kernelspec": {
   "display_name": "Python 3",
   "language": "python",
   "name": "python3"
  },
  "language_info": {
   "codemirror_mode": {
    "name": "ipython",
    "version": 2
   },
   "file_extension": ".py",
   "mimetype": "text/x-python",
   "name": "python",
   "nbconvert_exporter": "python",
   "pygments_lexer": "ipython2",
   "version": "2.7.6"
  }
 },
 "nbformat": 4,
 "nbformat_minor": 0
}